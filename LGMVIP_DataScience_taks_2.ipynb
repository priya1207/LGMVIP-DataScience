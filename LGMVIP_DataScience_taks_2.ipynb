{
  "nbformat": 4,
  "nbformat_minor": 0,
  "metadata": {
    "colab": {
      "name": "LGMVIP-DataScience taks-2.ipynb",
      "provenance": [],
      "authorship_tag": "ABX9TyODl/EnB3rak8t9m9iSLyOi",
      "include_colab_link": true
    },
    "kernelspec": {
      "name": "python3",
      "display_name": "Python 3"
    },
    "language_info": {
      "name": "python"
    }
  },
  "cells": [
    {
      "cell_type": "markdown",
      "metadata": {
        "id": "view-in-github",
        "colab_type": "text"
      },
      "source": [
        "<a href=\"https://colab.research.google.com/github/priya1207/LGMVIP-DataScience/blob/main/LGMVIP_DataScience_taks_2.ipynb\" target=\"_parent\"><img src=\"https://colab.research.google.com/assets/colab-badge.svg\" alt=\"Open In Colab\"/></a>"
      ]
    },
    {
      "cell_type": "markdown",
      "metadata": {
        "id": "fpf-yjFlQTR5"
      },
      "source": [
        "#LGMVIP-DATA SCIENCE TASK-2 \n",
        "\n",
        "#AUTHOR- HARIPRIYA.S\n",
        "##Image to Pencil Sketch with Python:\n",
        "\n",
        "##TASK-2:In this task , We need to read the image in RBG format and then convert it to a grayscale image. This will turn an image into a classic black and white photo. Then the next thing to do is invert the grayscale image also called negative image, this will be our inverted grayscale image. Inversion can be used to enhance details. Then we can finally create the pencil sketch by mixing the grayscale image with the inverted blurry image. This can be done by dividing the grayscale image by the inverted blurry image. Since images are just arrays, we can easily do this programmatically using the divide function from the cv2 library in Python."
      ]
    },
    {
      "cell_type": "code",
      "metadata": {
        "colab": {
          "base_uri": "https://localhost:8080/"
        },
        "id": "I1h4uGtLTDut",
        "outputId": "82506e72-f755-4a1c-fe11-43cc3712e903"
      },
      "source": [
        "import cv2\n",
        "\n",
        "#reading the image file\n",
        "img_rgb = cv2.imread(\"/content/Outrun [1920x1080].png\")\n",
        "\n",
        "#colour image to grey\n",
        "img_gray = cv2.cvtColor(img_rgb, cv2.COLOR_BGR2GRAY)\n",
        "\n",
        "#inverting grey image\n",
        "img_gray_inv = 255 - img_gray\n",
        "\n",
        "#applying Gaussian Blue\n",
        "img_blur = cv2.GaussianBlur(img_gray_inv, ksize=(21, 21),sigmaX=0, sigmaY=0)\n",
        "\n",
        "#applying dodge\n",
        "def dodgeV2(image, mask):\n",
        "  return (cv2.divide(image, 255-mask, scale=256))\n",
        "\n",
        "#applying burn\n",
        "def burnV2(image, mask):\n",
        "  return (255 - cv2.divide(255-image, 255-mask, scale=256))\n",
        "\n",
        "#blending to generate the sketch\n",
        "img_blend = dodgeV2(img_gray, img_blur)\n",
        "\n",
        "#displaying the sketch\n",
        "cv2.imwrite('result.jpg',img_blend)"
      ],
      "execution_count": 6,
      "outputs": [
        {
          "output_type": "execute_result",
          "data": {
            "text/plain": [
              "True"
            ]
          },
          "metadata": {
            "tags": []
          },
          "execution_count": 6
        }
      ]
    }
  ]
}